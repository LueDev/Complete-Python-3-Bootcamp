{
 "cells": [
  {
   "cell_type": "markdown",
   "metadata": {},
   "source": [
    "___\n",
    "\n",
    "<a href='https://www.udemy.com/user/joseportilla/'><img src='../Pierian_Data_Logo.png'/></a>\n",
    "___\n",
    "<center><em>Content Copyright by Pierian Data</em></center>"
   ]
  },
  {
   "cell_type": "markdown",
   "metadata": {},
   "source": [
    "# Guessing Game Challenge\n",
    "\n",
    "Let's use `while` loops to create a guessing game.\n",
    "\n",
    "The Challenge:\n",
    "\n",
    "Write a program that picks a random integer from 1 to 100, and has players guess the number. The rules are:\n",
    "\n",
    "1. If a player's guess is less than 1 or greater than 100, say \"OUT OF BOUNDS\"\n",
    "2. On a player's first turn, if their guess is\n",
    " * within 10 of the number, return \"WARM!\"\n",
    " * further than 10 away from the number, return \"COLD!\"\n",
    "3. On all subsequent turns, if a guess is \n",
    " * closer to the number than the previous guess return \"WARMER!\"\n",
    " * farther from the number than the previous guess, return \"COLDER!\"\n",
    "4. When the player's guess equals the number, tell them they've guessed correctly *and* how many guesses it took!\n",
    "\n",
    "You can try this from scratch, or follow the steps outlined below. A separate Solution notebook has been provided. Good luck!\n"
   ]
  },
  {
   "cell_type": "markdown",
   "metadata": {},
   "source": [
    "#### First, pick a random integer from 1 to 100 using the random module and assign it to a variable\n",
    "\n",
    "Note: `random.randint(a,b)` returns a random integer in range `[a, b]`, including both end points."
   ]
  },
  {
   "cell_type": "code",
   "execution_count": 79,
   "metadata": {
    "collapsed": true
   },
   "outputs": [
    {
     "name": "stdout",
     "output_type": "stream",
     "text": [
      "Winning Number: 5\n",
      "90: COLD!\n",
      "60: WARMER!\n",
      "50: WARMER!\n",
      "2: WARMER!\n",
      "1: COLDER!\n",
      "6: WARMER!\n",
      "7: COLDER!\n",
      "6: WARMER!\n",
      "YOU GOT IT!! Only took 8 tries! \n",
      "Here are all the guesses made: [90, 60, 50, 2, 1, 6, 7, 6, 5]\n"
     ]
    }
   ],
   "source": [
    "import random\n",
    "\n",
    "num_to_guess = random.randint(0,100)\n",
    "print(f\"Winning Number: {num_to_guess}\")\n",
    "\n",
    "count = 0\n",
    "user_guess = 1000\n",
    "distance_between_answer = 1000\n",
    "previous_distance_bw_answer = 1000\n",
    "guesses_made = []\n",
    "\n",
    "while (user_guess != num_to_guess):\n",
    "\n",
    "    user_guess = int(input(\"Please enter a guess between 0 - 100: \"))\n",
    "    distance_between_answer = abs(num_to_guess - user_guess)\n",
    "    guesses_made.append(user_guess)\n",
    "\n",
    "    #out-of-bounds condition\n",
    "    if user_guess < 1 or user_guess > 100: \n",
    "        print(\"OUT OF BOUNDS, try again\")\n",
    "        continue\n",
    "    \n",
    "    #first guess if far\n",
    "    if (user_guess > num_to_guess + 10 or user_guess < num_to_guess - 10) and count == 0:\n",
    "        print(f\"{user_guess}: COLD!\")\n",
    "        distance_between_answer = abs(num_to_guess - user_guess)\n",
    "        previous_distance_bw_answer = distance_between_answer\n",
    "        count =+ count + 1\n",
    "        continue\n",
    "    \n",
    "    #first guess if close\n",
    "    if (user_guess >= num_to_guess - 10 and user_guess <= num_to_guess + 10) and count == 0:\n",
    "        print(f\"{user_guess}: WARM!\")\n",
    "        distance_between_answer = abs(num_to_guess - user_guess)\n",
    "        previous_distance_bw_answer = distance_between_answer\n",
    "        count =+ count + 1\n",
    "        continue\n",
    "\n",
    "    #winning condition\n",
    "    if user_guess == num_to_guess:\n",
    "        print(f\"YOU GOT IT!! Only took {count} tries! \\nHere are all the guesses made: {guesses_made}\")\n",
    "        break\n",
    "\n",
    "    #every subsequent response to a guess\n",
    "    if distance_between_answer > previous_distance_bw_answer and count > 0:\n",
    "        print(f\"{user_guess}: COLDER!\")\n",
    "        previous_distance_bw_answer = distance_between_answer\n",
    "    elif distance_between_answer < previous_distance_bw_answer and count > 0:\n",
    "        print(f\"{user_guess}: WARMER!\")\n",
    "        previous_distance_bw_answer = distance_between_answer\n",
    "    elif distance_between_answer == previous_distance_bw_answer and count > 0:\n",
    "        print(f\"{user_guess}: SAME TEMPERATURE AWAY \")\n",
    "\n",
    "    count =+ count + 1\n",
    "    \n",
    "    \n",
    "   \n",
    "    \n",
    "\n",
    "\n"
   ]
  },
  {
   "cell_type": "markdown",
   "metadata": {},
   "source": [
    "#### Next, print an introduction to the game and explain the rules"
   ]
  },
  {
   "cell_type": "code",
   "execution_count": 73,
   "metadata": {
    "collapsed": true
   },
   "outputs": [
    {
     "data": {
      "text/plain": [
       "'WELCOME TO THE GUESSING GAME :) YOU WILL BE ALLOWED 8 TRIES TO GUESS A COMPUTER GENERATED NUMBER OR YOU LOSE!!'"
      ]
     },
     "execution_count": 73,
     "metadata": {},
     "output_type": "execute_result"
    }
   ],
   "source": [
    "'''WELCOME TO THE GUESSING GAME :) YOU WILL BE ALLOWED 8 TRIES TO GUESS A COMPUTER GENERATED NUMBER OR YOU LOSE!!'''"
   ]
  },
  {
   "cell_type": "markdown",
   "metadata": {},
   "source": [
    "#### Create a list to store guesses\n",
    "\n",
    "Hint: zero is a good placeholder value. It's useful because it evaluates to \"False\""
   ]
  },
  {
   "cell_type": "code",
   "execution_count": null,
   "metadata": {
    "collapsed": true
   },
   "outputs": [],
   "source": []
  },
  {
   "cell_type": "markdown",
   "metadata": {},
   "source": [
    "#### Write a `while` loop that asks for a valid guess. Test it a few times to make sure it works."
   ]
  },
  {
   "cell_type": "code",
   "execution_count": null,
   "metadata": {
    "collapsed": true
   },
   "outputs": [],
   "source": [
    "while True:\n",
    "    \n",
    "    pass"
   ]
  },
  {
   "cell_type": "markdown",
   "metadata": {},
   "source": [
    "#### Write a `while` loop that compares the player's guess to our number. If the player guesses correctly, break from the loop. Otherwise, tell the player if they're warmer or colder, and continue asking for guesses.\n",
    "\n",
    "Some hints:\n",
    "* it may help to sketch out all possible combinations on paper first!\n",
    "* you can use the `abs()` function to find the positive difference between two numbers\n",
    "* if you append all new guesses to the list, then the previous guess is given as `guesses[-2]`"
   ]
  },
  {
   "cell_type": "code",
   "execution_count": null,
   "metadata": {
    "collapsed": true
   },
   "outputs": [],
   "source": [
    "while True:\n",
    "\n",
    "    # we can copy the code from above to take an input\n",
    "\n",
    "    pass"
   ]
  },
  {
   "cell_type": "markdown",
   "metadata": {},
   "source": [
    "That's it! You've just programmed your first game!\n",
    "\n",
    "In the next section we'll learn how to turn some of these repetitive actions into *functions* that can be called whenever we need them."
   ]
  },
  {
   "cell_type": "markdown",
   "metadata": {},
   "source": [
    "### Good Job!"
   ]
  }
 ],
 "metadata": {
  "kernelspec": {
   "display_name": "Python 3.10.0 64-bit",
   "language": "python",
   "name": "python3"
  },
  "language_info": {
   "codemirror_mode": {
    "name": "ipython",
    "version": 3
   },
   "file_extension": ".py",
   "mimetype": "text/x-python",
   "name": "python",
   "nbconvert_exporter": "python",
   "pygments_lexer": "ipython3",
   "version": "3.10.0"
  },
  "vscode": {
   "interpreter": {
    "hash": "aee8b7b246df8f9039afb4144a1f6fd8d2ca17a180786b69acc140d282b71a49"
   }
  }
 },
 "nbformat": 4,
 "nbformat_minor": 2
}
