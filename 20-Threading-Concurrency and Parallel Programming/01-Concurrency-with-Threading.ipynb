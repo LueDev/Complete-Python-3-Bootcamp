{
 "cells": [
  {
   "cell_type": "markdown",
   "metadata": {},
   "source": [
    "**Concurrency:** \n",
    "\n",
    "Concurrency is when two or more tasks can start, run, and complete in overlapping time periods. It doesn't necessarily mean they'll ever both be running at the same instant. For example, multitasking on a single-core machine.\n",
    "\n",
    "Parallelism is when tasks literally run at the same time, e.g., on a multicore processor.\n",
    "\n",
    "We're going to breakdown a simple problem - how much time does it take a program to run a method without/with concurrency.\n",
    "\n",
    "The program will run a sleep method for x time and calculate the time it took to complete by subtracting the start time (start) from the end time (finish). The result will be 2.01 seconds.  "
   ]
  },
  {
   "cell_type": "code",
   "execution_count": 2,
   "metadata": {},
   "outputs": [
    {
     "name": "stdout",
     "output_type": "stream",
     "text": [
      "Sleeping 1 second(s)...\n",
      "Sleeping 1 second(s)...\n",
      "Finished in 2.01 second(s)\n"
     ]
    }
   ],
   "source": [
    "import time\n",
    "\n",
    "start = time.perf_counter()\n",
    "\n",
    "def do_something(seconds):\n",
    "    print(f'Sleeping {seconds} second(s)...')\n",
    "    time.sleep(seconds)\n",
    "    return f'Done Sleeping...{seconds}'\n",
    "\n",
    "do_something(1)\n",
    "do_something(1)\n",
    "\n",
    "finish = time.perf_counter()\n",
    "\n",
    "print(f'Finished in {round(finish-start, 2)} second(s)')"
   ]
  },
  {
   "cell_type": "markdown",
   "metadata": {},
   "source": [
    "Now let's introduce a very manual form of threading that allows for detailed tweaks, but could be more efficient as seen in the advanced method known as **Thread Pool Executor**. It'll help build how the final form is an efficient universal approach to threading whenever the detailed tweaks aren't needed."
   ]
  },
  {
   "cell_type": "code",
   "execution_count": 4,
   "metadata": {},
   "outputs": [
    {
     "name": "stdout",
     "output_type": "stream",
     "text": [
      "Sleeping 1.5 second(s)...\n",
      "Sleeping 1.5 second(s)...\n",
      "Finished in 1.5 second(s)\n"
     ]
    }
   ],
   "source": [
    "import time\n",
    "import threading\n",
    "\n",
    "start = time.perf_counter()\n",
    "\n",
    "def do_something(seconds):\n",
    "    print(f'Sleeping {seconds} second(s)...')\n",
    "    time.sleep(seconds)\n",
    "    return f'Done Sleeping...{seconds}'\n",
    "\n",
    "#Since our thread target is expecting an argument, we used the args keyword, which accepts arguments as a list. Careful not to insert a \n",
    "# SINGLE value.   Correct = [1.5]      INcorrect = 1.5\n",
    "t1 = threading.Thread(target=do_something, args=[1.5])\n",
    "t2 = threading.Thread(target=do_something, args=[1.5])\n",
    "\n",
    "#The start() method allows the threads to run concurrently along with the rest of the script. Since we want to determine the time it takes \n",
    "# to run the script, we don't want the threads to run concurrently with the rest of the script. \n",
    "t1.start()\n",
    "t2.start()\n",
    "\n",
    "#A thread can be joined in Python by calling the Thread. join() method. This has the effect of blocking the current thread until \n",
    "# the target thread that has been joined has terminated.\n",
    "t1.join()\n",
    "t2.join()\n",
    "\n",
    "finish = time.perf_counter()\n",
    "\n",
    "print(f'Finished in {round(finish-start, 2)} second(s)')"
   ]
  },
  {
   "cell_type": "markdown",
   "metadata": {},
   "source": [
    "We can also run threading through a loop to get multiple threads running! \n",
    "\n",
    "For the example below, we're creating ten threads running the same do_something sleep function that will sleep for 1.5 seconds as the sleep argument. However, since the ten threads are running as joined, we observe the program takes a total of 1.51 seconds to complete, instead of the 15 seconds it would take to complete procedurally. "
   ]
  },
  {
   "cell_type": "code",
   "execution_count": 5,
   "metadata": {},
   "outputs": [
    {
     "name": "stdout",
     "output_type": "stream",
     "text": [
      "Sleeping 1.5 second(s)...\n",
      "Sleeping 1.5 second(s)...\n",
      "Sleeping 1.5 second(s)...\n",
      "Sleeping 1.5 second(s)...\n",
      "Sleeping 1.5 second(s)...\n",
      "Sleeping 1.5 second(s)...Sleeping 1.5 second(s)...\n",
      "\n",
      "Sleeping 1.5 second(s)...\n",
      "Sleeping 1.5 second(s)...Sleeping 1.5 second(s)...\n",
      "\n",
      "Finished in 1.51 second(s)\n"
     ]
    }
   ],
   "source": [
    "import time\n",
    "import threading\n",
    "\n",
    "start = time.perf_counter()\n",
    "\n",
    "def do_something(seconds):\n",
    "    print(f'Sleeping {seconds} second(s)...')\n",
    "    time.sleep(seconds)\n",
    "    return f'Done Sleeping...{seconds}'\n",
    "\n",
    "#create an empty list to append threads to \n",
    "threads = []\n",
    "\n",
    "#The underscore used in the loop eliminates the 'counter' variable and allows iterations to occur without a counter.\n",
    "for _ in range(10):\n",
    "    t = threading.Thread(target=do_something, args=[1.5])\n",
    "    t.start()\n",
    "    threads.append(t)\n",
    "\n",
    "for thread in threads:\n",
    "    thread.join()\n",
    "\n",
    "\n",
    "finish = time.perf_counter()\n",
    "\n",
    "print(f'Finished in {round(finish-start, 2)} second(s)')"
   ]
  },
  {
   "cell_type": "markdown",
   "metadata": {},
   "source": [
    "Now we're going to look at the efficient approach, Thread Pool Executing, to threading concurrently. It also makes it easier to use multiple processes, instead of threads alone, depending on the problem we're trying to solve.\n",
    "\n",
    "We're no longer importing threading, we're now importing **concurrent.futures**\n",
    "\n",
    "Keep in mind this does not mean the manual approach is wrong or less. Both should be used under different circumstances."
   ]
  },
  {
   "cell_type": "code",
   "execution_count": 7,
   "metadata": {},
   "outputs": [
    {
     "name": "stdout",
     "output_type": "stream",
     "text": [
      "Sleeping 1 second(s)...Sleeping 1 second(s)...\n",
      "\n",
      "Done Sleeping...1\n",
      "Done Sleeping...1\n",
      "Finished in 1.01 second(s)\n"
     ]
    }
   ],
   "source": [
    "import concurrent.futures\n",
    "import time\n",
    "\n",
    "start = time.perf_counter()\n",
    "\n",
    "\n",
    "def do_something(seconds):\n",
    "    print(f'Sleeping {seconds} second(s)...')\n",
    "    time.sleep(seconds)\n",
    "    return f'Done Sleeping...{seconds}'\n",
    "\n",
    "\n",
    "with concurrent.futures.ThreadPoolExecutor() as executor:\n",
    "    \n",
    "    #To submit the function one at a time, we use the submit() method. This method schedules a function to be executed and returns a \n",
    "    #future object. The created object now allows us to check on it after it's been scheduled \n",
    "    f1 = executor.submit(do_something, 1)\n",
    "    f2 = executor.submit(do_something, 1)\n",
    "\n",
    "    #outputs the return value of the function \n",
    "    print(f1.result())\n",
    "    print(f2.result())\n",
    "    \n",
    "    \n",
    "    # for result in results:\n",
    "    #     print(result)\n",
    "\n",
    "# threads = []\n",
    "\n",
    "# for _ in range(10):\n",
    "#     t = threading.Thread(target=do_something, args=[1.5])\n",
    "#     t.start()\n",
    "#     threads.append(t)\n",
    "\n",
    "# for thread in threads:\n",
    "#     thread.join()\n",
    "\n",
    "finish = time.perf_counter()\n",
    "\n",
    "print(f'Finished in {round(finish-start, 2)} second(s)')"
   ]
  },
  {
   "cell_type": "markdown",
   "metadata": {},
   "source": [
    "We can also loop this process to output multiple submits. Instead of using the traditional loop as used for the threads, we'll be using a list comprehension."
   ]
  },
  {
   "cell_type": "code",
   "execution_count": 10,
   "metadata": {},
   "outputs": [
    {
     "name": "stdout",
     "output_type": "stream",
     "text": [
      "Sleeping 5 second(s)...Sleeping 4 second(s)...\n",
      "\n",
      "Sleeping 3 second(s)...\n",
      "Sleeping 2 second(s)...\n",
      "Sleeping 1 second(s)...\n",
      "Done Sleeping...1\n",
      "Done Sleeping...2\n",
      "Done Sleeping...3\n",
      "Done Sleeping...4\n",
      "Done Sleeping...5\n",
      "Finished in 5.0 second(s)\n"
     ]
    }
   ],
   "source": [
    "import concurrent.futures\n",
    "import time\n",
    "\n",
    "start = time.perf_counter()\n",
    "\n",
    "\n",
    "def do_something(seconds):\n",
    "    print(f'Sleeping {seconds} second(s)...')\n",
    "    time.sleep(seconds)\n",
    "    return f'Done Sleeping...{seconds}'\n",
    "\n",
    "\n",
    "with concurrent.futures.ThreadPoolExecutor() as executor:\n",
    "    secs = [5, 4, 3, 2, 1]\n",
    "    results = [executor.submit(do_something, sec) for sec in secs]\n",
    "\n",
    "    for f in concurrent.futures.as_completed(results):\n",
    "        print(f.result())\n",
    "    \n",
    "    \n",
    "    # for result in results:\n",
    "    #     print(result)\n",
    "\n",
    "# threads = []\n",
    "\n",
    "# for _ in range(10):\n",
    "#     t = threading.Thread(target=do_something, args=[1.5])\n",
    "#     t.start()\n",
    "#     threads.append(t)\n",
    "\n",
    "# for thread in threads:\n",
    "#     thread.join()\n",
    "\n",
    "finish = time.perf_counter()\n",
    "\n",
    "print(f'Finished in {round(finish-start, 2)} second(s)')"
   ]
  },
  {
   "cell_type": "markdown",
   "metadata": {},
   "source": [
    "We can also use the map function :) "
   ]
  },
  {
   "cell_type": "code",
   "execution_count": 19,
   "metadata": {},
   "outputs": [
    {
     "name": "stdout",
     "output_type": "stream",
     "text": [
      "Sleeping 5 second(s)...\n",
      "Sleeping 4 second(s)...\n",
      "Sleeping 3 second(s)...Sleeping 2 second(s)...\n",
      "\n",
      "Sleeping 1 second(s)...\n",
      "Done Sleeping...5\n",
      "Done Sleeping...4\n",
      "Done Sleeping...3\n",
      "Done Sleeping...2\n",
      "Done Sleeping...1\n",
      "Finished in 5.01 second(s)\n"
     ]
    }
   ],
   "source": [
    "import concurrent.futures\n",
    "import time\n",
    "\n",
    "start = time.perf_counter()\n",
    "\n",
    "\n",
    "def do_something(seconds):\n",
    "    print(f'Sleeping {seconds} second(s)...')\n",
    "    time.sleep(seconds)\n",
    "    return f'Done Sleeping...{seconds}'\n",
    "\n",
    "\n",
    "with concurrent.futures.ThreadPoolExecutor() as executor:\n",
    "    secs = [5, 4, 3, 2, 1]\n",
    "    \n",
    "    #with the map() function, we can iterate through iterable values, such as the secs list. \n",
    "    results = executor.map(do_something, secs)\n",
    "    \n",
    "    list(print(result) for result in results)\n",
    "    \n",
    "finish = time.perf_counter()\n",
    "\n",
    "print(f'Finished in {round(finish-start, 2)} second(s)')"
   ]
  },
  {
   "cell_type": "markdown",
   "metadata": {},
   "source": [
    "Please continue the rest of the youtube video explaining this. The next section is concurrent loading of multiple photos at once from unsplash. \n",
    "\n",
    "Link to youtube video: https://www.youtube.com/watch?v=IEEhzQoKtQU\n",
    "Link to Code: https://github.com/CoreyMSchafer/code_snippets/tree/master/Python/Threading"
   ]
  }
 ],
 "metadata": {
  "kernelspec": {
   "display_name": "Python 3.10.0 64-bit",
   "language": "python",
   "name": "python3"
  },
  "language_info": {
   "codemirror_mode": {
    "name": "ipython",
    "version": 3
   },
   "file_extension": ".py",
   "mimetype": "text/x-python",
   "name": "python",
   "nbconvert_exporter": "python",
   "pygments_lexer": "ipython3",
   "version": "3.10.0"
  },
  "orig_nbformat": 4,
  "vscode": {
   "interpreter": {
    "hash": "aee8b7b246df8f9039afb4144a1f6fd8d2ca17a180786b69acc140d282b71a49"
   }
  }
 },
 "nbformat": 4,
 "nbformat_minor": 2
}
